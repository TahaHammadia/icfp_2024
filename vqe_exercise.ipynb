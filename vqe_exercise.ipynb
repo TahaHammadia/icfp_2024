{
 "cells": [
  {
   "cell_type": "markdown",
   "id": "dba4265a",
   "metadata": {},
   "source": [
    "# Example of variational quantum eigensolver"
   ]
  },
  {
   "cell_type": "code",
   "execution_count": 1,
   "id": "898b3911",
   "metadata": {},
   "outputs": [],
   "source": [
    "%load_ext autoreload\n",
    "%autoreload 2\n",
    "import numpy as np\n",
    "import matplotlib.pyplot as plt\n",
    "\n",
    "from tools import Circuit, gate_dic\n",
    "from state_vector_qpu import State, StateVectorQPU\n"
   ]
  },
  {
   "cell_type": "code",
   "execution_count": 2,
   "id": "e4555296",
   "metadata": {},
   "outputs": [
    {
     "name": "stdout",
     "output_type": "stream",
     "text": [
      "|00> : (0.7071067811865475+0j) \n",
      "|01> : 0j \n",
      "|10> : 0j \n",
      "|11> : (0.7071067811865475+0j) \n",
      "\n",
      "<ZZ> = (0.9999999999999998+0j)\n",
      "<Z> = (-2.2371143170757382e-17+0j)\n"
     ]
    }
   ],
   "source": [
    "from copy import deepcopy\n",
    "\n",
    "def compute_energy(H, res):\n",
    "    \"\"\"computing <psi|H|psi>\n",
    "    \n",
    "    Args:\n",
    "        H (list): list [(lambda_i, P_i)] with P_i = list [(X, 0), (Y, 1), ...]\n",
    "        psi (State): final state of circuit\n",
    "        \n",
    "    Returns:\n",
    "        <psi|H|psi>\n",
    "    \"\"\"\n",
    "    val = 0.0\n",
    "    for coeff, term in H:\n",
    "        res_copy = deepcopy(res)\n",
    "        for pauli, qb in term:\n",
    "            res_copy.apply(gate_dic[pauli], [qb])\n",
    "        val += coeff * res.to_vec().conj().dot(res_copy.to_vec())\n",
    "        \n",
    "    return val\n",
    " \n",
    "# test on Bell state\n",
    "circ = Circuit(2, [(\"H\", [0]), (\"CNOT\", [0, 1])])\n",
    "\n",
    "qpu = StateVectorQPU(2, gate_dic)\n",
    "res = qpu.submit(circ)\n",
    "\n",
    "print(res)\n",
    "\n",
    "H = [(1., [(\"Z\", 0), (\"Z\", 1)])] # ZZ measurement\n",
    "energy = compute_energy(H, res)\n",
    "print(\"<ZZ> =\", energy)\n",
    "\n",
    "H = [(1., [(\"Z\", 0)])] # Z measurement\n",
    "\n",
    "type(res)\n",
    "energy = compute_energy(H, res)\n",
    "print(\"<Z> =\", energy)"
   ]
  },
  {
   "cell_type": "code",
   "execution_count": 3,
   "id": "0df45dc5",
   "metadata": {},
   "outputs": [
    {
     "name": "stderr",
     "output_type": "stream",
     "text": [
      "/usr/local/lib64/python3.9/site-packages/scipy/optimize/_numdiff.py:598: ComplexWarning: Casting complex values to real discards the imaginary part\n",
      "  J_transposed[i] = df / dx\n",
      "/usr/local/lib64/python3.9/site-packages/scipy/optimize/_linesearch.py:155: ComplexWarning: Casting complex values to real discards the imaginary part\n",
      "  stp, phi1, derphi1, task = minpack2.dcsrch(alpha1, phi1, derphi1,\n"
     ]
    },
    {
     "name": "stdout",
     "output_type": "stream",
     "text": [
      " message: Optimization terminated successfully.\n",
      " success: True\n",
      "  status: 0\n",
      "     fun: -2.999999999986783\n",
      "       x: [ 3.045e+00 -5.037e+00  1.142e+00  3.215e+00 -6.484e+00\n",
      "            1.348e+00 -1.544e+00  6.116e-02  6.761e+00]\n",
      "     nit: 23\n",
      "     jac: [-6.855e-07  2.831e-06  1.490e-07 -1.162e-06 -8.941e-07\n",
      "           -3.666e-06  9.537e-07 -1.460e-06 -8.345e-07]\n",
      "    nfev: 430\n",
      "    njev: 43\n"
     ]
    }
   ],
   "source": [
    "# \"hardware-efficient ansatz\"\n",
    "def make_ansatz(theta):\n",
    "    n_layers = 3\n",
    "    n_qbits = len(theta) // n_layers\n",
    "    gate_list = []\n",
    "    for ind in range(n_layers):\n",
    "        for qb in range(n_qbits):\n",
    "            gate_list.append((\"RY\", [qb], theta[ind*n_qbits+ qb]))\n",
    "        for qb in range(n_qbits-1):\n",
    "            gate_list.append((\"CNOT\", [qb, qb+1]))\n",
    "    circ = Circuit(n_qbits, gate_list)\n",
    "    return circ\n",
    "\n",
    "    \n",
    "def get_energy(theta, record=True):\n",
    "    global energy_list\n",
    "    n_layers = 3\n",
    "    n_qbits = len(theta) // n_layers\n",
    "    qpu = StateVectorQPU(n_qbits, gate_dic)\n",
    "    circ = make_ansatz(theta)\n",
    "    res = qpu.submit(circ)\n",
    "    energy = compute_energy(H, res)\n",
    "    \n",
    "    # keeping track of values encountered during optimization\n",
    "    if record:\n",
    "        energy_list.append(energy)\n",
    "    return energy\n",
    "\n",
    "def get_gradient(theta):\n",
    "    # computing the gradient with the parameter-shift rule\n",
    "    grad = []\n",
    "    for k in range(len(theta)):\n",
    "        e_plus_pi_h = get_energy([t+np.pi/2 if ind==k else t for ind, t in enumerate(theta)], False)\n",
    "        e_minus_pi_h = get_energy([t-np.pi/2 if ind==k else t for ind, t in enumerate(theta)], False)\n",
    "        grad.append(0.5*(e_plus_pi_h-e_minus_pi_h))\n",
    "    \n",
    "    return grad\n",
    "# test on Heisenberg model\n",
    "\n",
    "n_sites = 3\n",
    "H = [(1, [(\"Z\", i), (\"Z\", (i+1)%n_sites)]) for i in range(n_sites)]\n",
    "H += [(1, [(\"X\", i), (\"X\", (i+1)%n_sites)]) for i in range(n_sites)]\n",
    "H += [(1, [(\"Y\", i), (\"Y\", (i+1)%n_sites)]) for i in range(n_sites)]\n",
    "\n",
    "# simple test\n",
    "theta = np.random.rand(n_sites*3)\n",
    "energy_list = []\n",
    "en = get_energy(theta)\n",
    "\n",
    "# now do optimization\n",
    "from scipy.optimize import minimize\n",
    "energy_list = []\n",
    "\n",
    "result = minimize(get_energy, x0 = theta, method=\"CG\")\n",
    "print(result)"
   ]
  },
  {
   "cell_type": "markdown",
   "id": "5639812a",
   "metadata": {},
   "source": [
    "### Optimization trace"
   ]
  },
  {
   "cell_type": "code",
   "execution_count": 4,
   "id": "14e0349d",
   "metadata": {},
   "outputs": [
    {
     "name": "stderr",
     "output_type": "stream",
     "text": [
      "/usr/local/lib64/python3.9/site-packages/matplotlib/cbook/__init__.py:1335: ComplexWarning: Casting complex values to real discards the imaginary part\n",
      "  return np.asarray(x, float)\n"
     ]
    },
    {
     "data": {
      "image/png": "[encoded data removed]",
      "text/plain": [
       "<Figure size 640x480 with 1 Axes>"
      ]
     },
     "metadata": {},
     "output_type": "display_data"
    }
   ],
   "source": [
    "import matplotlib.pyplot as plt\n",
    "plt.plot(energy_list)\n",
    "plt.ylabel(\"energy\")\n",
    "plt.xlabel(\"optimization step\")\n",
    "plt.grid();"
   ]
  },
  {
   "cell_type": "markdown",
   "id": "9820c607",
   "metadata": {},
   "source": [
    "## With an explicit gradient"
   ]
  },
  {
   "cell_type": "code",
   "execution_count": 5,
   "id": "3fe2431a",
   "metadata": {},
   "outputs": [
    {
     "name": "stderr",
     "output_type": "stream",
     "text": [
      "/usr/local/lib64/python3.9/site-packages/scipy/optimize/_differentiable_functions.py:243: ComplexWarning: Casting complex values to real discards the imaginary part\n",
      "  self.x = np.atleast_1d(x).astype(float)\n"
     ]
    },
    {
     "name": "stdout",
     "output_type": "stream",
     "text": [
      " message: Optimization terminated successfully.\n",
      " success: True\n",
      "  status: 0\n",
      "     fun: -2.999999999980333\n",
      "       x: [ 3.04512177+0.j -5.03666326+0.j  1.14275449+0.j  3.21538396+0.j\n",
      "           -6.48354959+0.j  1.34826013+0.j -1.5439479 +0.j  0.06106688+0.j\n",
      "            6.76104779+0.j]\n",
      "     nit: 24\n",
      "     jac: [ 3.40314526e-06+0.j -2.41738769e-06+0.j -3.52061596e-06+0.j\n",
      "            2.64517378e-06+0.j  2.75700199e-06+0.j  2.84608790e-08+0.j\n",
      "            4.78463575e-06+0.j -2.89476197e-06+0.j -3.51157666e-06+0.j]\n",
      "    nfev: 43\n",
      "    njev: 43\n"
     ]
    }
   ],
   "source": [
    "# now do optimization\n",
    "from scipy.optimize import minimize\n",
    "energy_list = []\n",
    "\n",
    "result = minimize(get_energy, x0 = theta, method=\"CG\", jac=get_gradient)\n",
    "print(result)"
   ]
  },
  {
   "cell_type": "code",
   "execution_count": 6,
   "id": "d827db20",
   "metadata": {},
   "outputs": [
    {
     "data": {
      "image/png": "[encoded data removed]",
      "text/plain": [
       "<Figure size 640x480 with 1 Axes>"
      ]
     },
     "metadata": {},
     "output_type": "display_data"
    }
   ],
   "source": [
    "import matplotlib.pyplot as plt\n",
    "plt.plot(energy_list)\n",
    "plt.ylabel(\"energy\")\n",
    "plt.xlabel(\"optimization step\")\n",
    "plt.grid();"
   ]
  },
  {
   "cell_type": "markdown",
   "id": "44126e84",
   "metadata": {},
   "source": [
    "See how fast the convergence is!"
   ]
  },
  {
   "cell_type": "code",
   "execution_count": null,
   "id": "63ee10b9",
   "metadata": {},
   "outputs": [],
   "source": []
  }
 ],
 "metadata": {
  "kernelspec": {
   "display_name": "Python 3 (ipykernel)",
   "language": "python",
   "name": "python3"
  },
  "language_info": {
   "codemirror_mode": {
    "name": "ipython",
    "version": 3
   },
   "file_extension": ".py",
   "mimetype": "text/x-python",
   "name": "python",
   "nbconvert_exporter": "python",
   "pygments_lexer": "ipython3",
   "version": "3.9.18"
  }
 },
 "nbformat": 4,
 "nbformat_minor": 5
}
